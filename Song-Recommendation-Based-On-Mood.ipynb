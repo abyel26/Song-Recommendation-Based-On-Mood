{
 "cells": [
  {
   "cell_type": "markdown",
   "metadata": {},
   "source": [
    "<h1>Song-Recommendation-Based-On-Mood</h1>\n",
    "<h2>Abyel Romero, Karim Kabbara<h2>"
   ]
  },
  {
   "cell_type": "markdown",
   "metadata": {},
   "source": [
    "<h2>Import libraries and load data</h2>"
   ]
  },
  {
   "cell_type": "code",
   "execution_count": 2,
   "metadata": {},
   "outputs": [],
   "source": [
    "import pandas as pd\n",
    "import numpy as np\n",
    "import cv2 as cv\n",
    "import os"
   ]
  },
  {
   "cell_type": "markdown",
   "metadata": {},
   "source": [
    "<h2>Extract Data to DF</h2>"
   ]
  },
  {
   "cell_type": "code",
   "execution_count": 31,
   "metadata": {},
   "outputs": [
    {
     "name": "stdout",
     "output_type": "stream",
     "text": [
      "[WinError 2] The system cannot find the file specified: 'data'\n",
      "C:\\Users\\karim\\Desktop\\ML Project\\Song-Recommendation-Based-On-Mood\\data\n"
     ]
    },
    {
     "data": {
      "text/html": [
       "<div>\n",
       "<style scoped>\n",
       "    .dataframe tbody tr th:only-of-type {\n",
       "        vertical-align: middle;\n",
       "    }\n",
       "\n",
       "    .dataframe tbody tr th {\n",
       "        vertical-align: top;\n",
       "    }\n",
       "\n",
       "    .dataframe thead th {\n",
       "        text-align: right;\n",
       "    }\n",
       "</style>\n",
       "<table border=\"1\" class=\"dataframe\">\n",
       "  <thead>\n",
       "    <tr style=\"text-align: right;\">\n",
       "      <th></th>\n",
       "      <th>image</th>\n",
       "      <th>emotion</th>\n",
       "    </tr>\n",
       "  </thead>\n",
       "  <tbody>\n",
       "    <tr>\n",
       "      <th>0</th>\n",
       "      <td>facial-expressions_2868588k.jpg</td>\n",
       "      <td>1</td>\n",
       "    </tr>\n",
       "    <tr>\n",
       "      <th>1</th>\n",
       "      <td>facial-expressions_2868585k.jpg</td>\n",
       "      <td>2</td>\n",
       "    </tr>\n",
       "    <tr>\n",
       "      <th>2</th>\n",
       "      <td>facial-expressions_2868584k.jpg</td>\n",
       "      <td>3</td>\n",
       "    </tr>\n",
       "    <tr>\n",
       "      <th>3</th>\n",
       "      <td>facial-expressions_2868582k.jpg</td>\n",
       "      <td>4</td>\n",
       "    </tr>\n",
       "    <tr>\n",
       "      <th>4</th>\n",
       "      <td>Aaron_Eckhart_0001.jpg</td>\n",
       "      <td>5</td>\n",
       "    </tr>\n",
       "    <tr>\n",
       "      <th>...</th>\n",
       "      <td>...</td>\n",
       "      <td>...</td>\n",
       "    </tr>\n",
       "    <tr>\n",
       "      <th>13685</th>\n",
       "      <td>SharmilaTagore_80.jpg</td>\n",
       "      <td>6</td>\n",
       "    </tr>\n",
       "    <tr>\n",
       "      <th>13686</th>\n",
       "      <td>SharmilaTagore_81.jpg</td>\n",
       "      <td>6</td>\n",
       "    </tr>\n",
       "    <tr>\n",
       "      <th>13687</th>\n",
       "      <td>SharmilaTagore_82.jpg</td>\n",
       "      <td>6</td>\n",
       "    </tr>\n",
       "    <tr>\n",
       "      <th>13688</th>\n",
       "      <td>SharmilaTagore_83.jpg</td>\n",
       "      <td>6</td>\n",
       "    </tr>\n",
       "    <tr>\n",
       "      <th>13689</th>\n",
       "      <td>SharmilaTagore_9.jpg</td>\n",
       "      <td>6</td>\n",
       "    </tr>\n",
       "  </tbody>\n",
       "</table>\n",
       "<p>13690 rows × 2 columns</p>\n",
       "</div>"
      ],
      "text/plain": [
       "                                 image emotion\n",
       "0      facial-expressions_2868588k.jpg       1\n",
       "1      facial-expressions_2868585k.jpg       2\n",
       "2      facial-expressions_2868584k.jpg       3\n",
       "3      facial-expressions_2868582k.jpg       4\n",
       "4               Aaron_Eckhart_0001.jpg       5\n",
       "...                                ...     ...\n",
       "13685            SharmilaTagore_80.jpg       6\n",
       "13686            SharmilaTagore_81.jpg       6\n",
       "13687            SharmilaTagore_82.jpg       6\n",
       "13688            SharmilaTagore_83.jpg       6\n",
       "13689             SharmilaTagore_9.jpg       6\n",
       "\n",
       "[13690 rows x 2 columns]"
      ]
     },
     "execution_count": 31,
     "metadata": {},
     "output_type": "execute_result"
    }
   ],
   "source": [
    "%cd data\n",
    "\n",
    "imageDataset = pd.read_csv('legend.csv')\n",
    "imageDataset = imageDataset.drop(columns=['user.id'])\n",
    "\n",
    "emotions = np.array(imageDataset['emotion'])\n",
    "\n",
    "for i in range(len(columnSeriesObj)):\n",
    "    if emotions[i].lower() == 'anger':\n",
    "        imageDataset.at[i, 'emotion'] = 1\n",
    "    elif emotions[i].lower() == 'surprise':\n",
    "        imageDataset.at[i, 'emotion'] = 2\n",
    "    elif emotions[i].lower() == 'disgust':\n",
    "        imageDataset.at[i, 'emotion'] = 3\n",
    "    elif emotions[i].lower() == 'fear':\n",
    "        imageDataset.at[i, 'emotion'] = 4\n",
    "    elif emotions[i].lower() == 'neutral':\n",
    "        imageDataset.at[i, 'emotion'] = 5\n",
    "    elif emotions[i].lower() == 'happiness':\n",
    "        imageDataset.at[i, 'emotion'] = 6\n",
    "    elif emotions[i].lower() == 'sadness':\n",
    "        imageDataset.at[i, 'emotion'] = 7\n",
    "\n",
    "imageDataset"
   ]
  },
  {
   "cell_type": "markdown",
   "metadata": {},
   "source": [
    "<h3>Split dataset into 80/20</h3>"
   ]
  },
  {
   "cell_type": "code",
   "execution_count": 4,
   "metadata": {
    "scrolled": true
   },
   "outputs": [],
   "source": [
    "from sklearn.model_selection import train_test_split\n",
    "\n",
    "X_train, X_test, y_train, y_test = train_test_split(xDf, yDf, test_size = 0.20, random_state = 45931)"
   ]
  },
  {
   "cell_type": "code",
   "execution_count": null,
   "metadata": {},
   "outputs": [],
   "source": []
  }
 ],
 "metadata": {
  "kernelspec": {
   "display_name": "Python 3",
   "language": "python",
   "name": "python3"
  },
  "language_info": {
   "codemirror_mode": {
    "name": "ipython",
    "version": 3
   },
   "file_extension": ".py",
   "mimetype": "text/x-python",
   "name": "python",
   "nbconvert_exporter": "python",
   "pygments_lexer": "ipython3",
   "version": "3.8.5"
  },
  "varInspector": {
   "cols": {
    "lenName": 16,
    "lenType": 16,
    "lenVar": 40
   },
   "kernels_config": {
    "python": {
     "delete_cmd_postfix": "",
     "delete_cmd_prefix": "del ",
     "library": "var_list.py",
     "varRefreshCmd": "print(var_dic_list())"
    },
    "r": {
     "delete_cmd_postfix": ") ",
     "delete_cmd_prefix": "rm(",
     "library": "var_list.r",
     "varRefreshCmd": "cat(var_dic_list()) "
    }
   },
   "types_to_exclude": [
    "module",
    "function",
    "builtin_function_or_method",
    "instance",
    "_Feature"
   ],
   "window_display": false
  }
 },
 "nbformat": 4,
 "nbformat_minor": 2
}
