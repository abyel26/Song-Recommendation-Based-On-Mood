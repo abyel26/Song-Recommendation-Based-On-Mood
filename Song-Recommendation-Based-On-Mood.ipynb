{
 "cells": [
  {
   "cell_type": "markdown",
   "metadata": {},
   "source": [
    "<h1>Assignment 3: Karim Kabbara</h1>"
   ]
  },
  {
   "cell_type": "markdown",
   "metadata": {},
   "source": [
    "<h2>Import libraries and load data</h2>"
   ]
  },
  {
   "cell_type": "code",
   "execution_count": 2,
   "metadata": {},
   "outputs": [],
   "source": [
    "import pandas as pd\n",
    "import numpy as np\n",
    "import cv2 as cv\n",
    "import os"
   ]
  },
  {
   "cell_type": "markdown",
   "metadata": {},
   "source": [
    "<h2>Extract Data to DF</h2>"
   ]
  },
  {
   "cell_type": "code",
   "execution_count": 15,
   "metadata": {},
   "outputs": [
    {
     "name": "stdout",
     "output_type": "stream",
     "text": [
      "[Errno 2] No such file or directory: 'data'\n",
      "/Users/abyel26/Desktop/University/Semester 10/Machine Learning/SongRecommendationFacialRecognition/Song-Recommendation-Based-On-Mood/data\n"
     ]
    },
    {
     "data": {
      "text/html": [
       "<div>\n",
       "<style scoped>\n",
       "    .dataframe tbody tr th:only-of-type {\n",
       "        vertical-align: middle;\n",
       "    }\n",
       "\n",
       "    .dataframe tbody tr th {\n",
       "        vertical-align: top;\n",
       "    }\n",
       "\n",
       "    .dataframe thead th {\n",
       "        text-align: right;\n",
       "    }\n",
       "</style>\n",
       "<table border=\"1\" class=\"dataframe\">\n",
       "  <thead>\n",
       "    <tr style=\"text-align: right;\">\n",
       "      <th></th>\n",
       "      <th>image</th>\n",
       "      <th>emotion</th>\n",
       "    </tr>\n",
       "  </thead>\n",
       "  <tbody>\n",
       "    <tr>\n",
       "      <th>0</th>\n",
       "      <td>facial-expressions_2868588k.jpg</td>\n",
       "      <td>1</td>\n",
       "    </tr>\n",
       "    <tr>\n",
       "      <th>1</th>\n",
       "      <td>facial-expressions_2868585k.jpg</td>\n",
       "      <td>2</td>\n",
       "    </tr>\n",
       "    <tr>\n",
       "      <th>2</th>\n",
       "      <td>facial-expressions_2868584k.jpg</td>\n",
       "      <td>3</td>\n",
       "    </tr>\n",
       "    <tr>\n",
       "      <th>3</th>\n",
       "      <td>facial-expressions_2868582k.jpg</td>\n",
       "      <td>4</td>\n",
       "    </tr>\n",
       "    <tr>\n",
       "      <th>4</th>\n",
       "      <td>Aaron_Eckhart_0001.jpg</td>\n",
       "      <td>5</td>\n",
       "    </tr>\n",
       "    <tr>\n",
       "      <th>...</th>\n",
       "      <td>...</td>\n",
       "      <td>...</td>\n",
       "    </tr>\n",
       "    <tr>\n",
       "      <th>13685</th>\n",
       "      <td>SharmilaTagore_80.jpg</td>\n",
       "      <td>6</td>\n",
       "    </tr>\n",
       "    <tr>\n",
       "      <th>13686</th>\n",
       "      <td>SharmilaTagore_81.jpg</td>\n",
       "      <td>6</td>\n",
       "    </tr>\n",
       "    <tr>\n",
       "      <th>13687</th>\n",
       "      <td>SharmilaTagore_82.jpg</td>\n",
       "      <td>6</td>\n",
       "    </tr>\n",
       "    <tr>\n",
       "      <th>13688</th>\n",
       "      <td>SharmilaTagore_83.jpg</td>\n",
       "      <td>6</td>\n",
       "    </tr>\n",
       "    <tr>\n",
       "      <th>13689</th>\n",
       "      <td>SharmilaTagore_9.jpg</td>\n",
       "      <td>6</td>\n",
       "    </tr>\n",
       "  </tbody>\n",
       "</table>\n",
       "<p>13690 rows × 2 columns</p>\n",
       "</div>"
      ],
      "text/plain": [
       "                                 image emotion\n",
       "0      facial-expressions_2868588k.jpg       1\n",
       "1      facial-expressions_2868585k.jpg       2\n",
       "2      facial-expressions_2868584k.jpg       3\n",
       "3      facial-expressions_2868582k.jpg       4\n",
       "4               Aaron_Eckhart_0001.jpg       5\n",
       "...                                ...     ...\n",
       "13685            SharmilaTagore_80.jpg       6\n",
       "13686            SharmilaTagore_81.jpg       6\n",
       "13687            SharmilaTagore_82.jpg       6\n",
       "13688            SharmilaTagore_83.jpg       6\n",
       "13689             SharmilaTagore_9.jpg       6\n",
       "\n",
       "[13690 rows x 2 columns]"
      ]
     },
     "execution_count": 15,
     "metadata": {},
     "output_type": "execute_result"
    }
   ],
   "source": [
    "%cd data\n",
    "\n",
    "imageDataset = pd.read_csv('legend.csv')\n",
    "imageDataset = imageDataset.drop(columns=['user.id'])\n",
    "\n",
    "emotions = np.array(imageDataset['emotion'])\n",
    "\n",
    "for i in range(len(emotions)):\n",
    "    if emotions[i].lower() == 'anger':\n",
    "        imageDataset.at[i, 'emotion'] = 1\n",
    "    elif emotions[i].lower() == 'surprise':\n",
    "        imageDataset.at[i, 'emotion'] = 2\n",
    "    elif emotions[i].lower() == 'disgust':\n",
    "        imageDataset.at[i, 'emotion'] = 3\n",
    "    elif emotions[i].lower() == 'fear':\n",
    "        imageDataset.at[i, 'emotion'] = 4\n",
    "    elif emotions[i].lower() == 'neutral':\n",
    "        imageDataset.at[i, 'emotion'] = 5\n",
    "    elif emotions[i].lower() == 'happiness':\n",
    "        imageDataset.at[i, 'emotion'] = 6\n",
    "    elif emotions[i].lower() == 'sadness':\n",
    "        imageDataset.at[i, 'emotion'] = 7\n",
    "\n",
    "imageDataset"
   ]
  },
  {
   "cell_type": "markdown",
   "metadata": {},
   "source": [
    "<h3>Split dataset into 80/20</h3>"
   ]
  },
  {
   "cell_type": "code",
   "execution_count": 18,
   "metadata": {
    "scrolled": true
   },
   "outputs": [
    {
     "name": "stdout",
     "output_type": "stream",
     "text": [
      "Train: \n",
      "\n",
      "                         image emotion\n",
      "7748        Linda_Ham_0001.jpg       6\n",
      "8461     Matt_Doherty_0001.jpg       5\n",
      "5814    Jean_Chretien_0021.jpg       5\n",
      "2139     Colin_Powell_0023.jpg       5\n",
      "11182   Silvan_Shalom_0002.jpg       5\n",
      "...                        ...     ...\n",
      "10497  Robert_Redford_0005.jpg       6\n",
      "932      Arturo_Gatti_0002.jpg       5\n",
      "9597     Paul_Burrell_0003.jpg       5\n",
      "7648        Lena_Olin_0001.jpg       6\n",
      "10492  Robert_Pollack_0001.jpg       6\n",
      "\n",
      "[10952 rows x 2 columns]\n",
      "\n",
      "Test: \n",
      "\n",
      "                              image emotion\n",
      "4706       Guillermo_Canas_0003.jpg       6\n",
      "12466       Warren_Buffett_0001.jpg       6\n",
      "8976     Mohammed_Al-Douri_0004.jpg       5\n",
      "4268         George_W_Bush_0470.jpg       5\n",
      "3349            Eric_Lloyd_0001.jpg       6\n",
      "...                             ...     ...\n",
      "4163         George_W_Bush_0365.jpg       5\n",
      "8525   Meghann_Shaughnessy_0001.jpg       5\n",
      "12587         Winona_Ryder_0016.jpg       5\n",
      "1885         Chen_Liang_Yu_0002.jpg       6\n",
      "6086         Jesse_Jackson_0004.jpg       5\n",
      "\n",
      "[2738 rows x 2 columns]\n"
     ]
    }
   ],
   "source": [
    "from sklearn.model_selection import train_test_split\n",
    "\n",
    "# print(imageDataset)\n",
    "dataframe = pd.DataFrame(data=imageDataset)\n",
    "dataframe['emotion']\n",
    "\n",
    "train, test = train_test_split(dataframe, test_size = 0.20, train_size=0.8)\n",
    "print(\"Train: \\n\")\n",
    "print(train)\n",
    "print(\"\\nTest: \\n\")\n",
    "print(test)"
   ]
  },
  {
   "cell_type": "code",
   "execution_count": null,
   "metadata": {},
   "outputs": [],
   "source": []
  },
  {
   "cell_type": "code",
   "execution_count": null,
   "metadata": {},
   "outputs": [],
   "source": []
  }
 ],
 "metadata": {
  "kernelspec": {
   "display_name": "Python 3 (ipykernel)",
   "language": "python",
   "name": "python3"
  },
  "language_info": {
   "codemirror_mode": {
    "name": "ipython",
    "version": 3
   },
   "file_extension": ".py",
   "mimetype": "text/x-python",
   "name": "python",
   "nbconvert_exporter": "python",
   "pygments_lexer": "ipython3",
   "version": "3.9.7"
  },
  "varInspector": {
   "cols": {
    "lenName": 16,
    "lenType": 16,
    "lenVar": 40
   },
   "kernels_config": {
    "python": {
     "delete_cmd_postfix": "",
     "delete_cmd_prefix": "del ",
     "library": "var_list.py",
     "varRefreshCmd": "print(var_dic_list())"
    },
    "r": {
     "delete_cmd_postfix": ") ",
     "delete_cmd_prefix": "rm(",
     "library": "var_list.r",
     "varRefreshCmd": "cat(var_dic_list()) "
    }
   },
   "types_to_exclude": [
    "module",
    "function",
    "builtin_function_or_method",
    "instance",
    "_Feature"
   ],
   "window_display": false
  }
 },
 "nbformat": 4,
 "nbformat_minor": 2
}
