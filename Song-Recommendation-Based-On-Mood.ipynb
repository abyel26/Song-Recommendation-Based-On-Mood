{
 "cells": [
  {
   "cell_type": "markdown",
   "metadata": {},
   "source": [
    "<h1>Assignment 3: Karim Kabbara</h1>"
   ]
  },
  {
   "cell_type": "markdown",
   "metadata": {},
   "source": [
    "<h2>Import libraries and load data</h2>"
   ]
  },
  {
   "cell_type": "code",
   "execution_count": 1,
   "metadata": {},
   "outputs": [],
   "source": [
    "import pandas as pd\n",
    "import numpy as np\n",
    "import cv2 as cv\n",
    "import os"
   ]
  },
  {
   "cell_type": "markdown",
   "metadata": {},
   "source": [
    "<h2>Extract Data to DF</h2>"
   ]
  },
  {
   "cell_type": "code",
   "execution_count": 5,
   "metadata": {},
   "outputs": [],
   "source": [
    "imageDataset = pd.read_csv('legend.csv')\n",
    "imageDataset = imageDataset.drop(columns=['user.id'])\n",
    "\n",
    "for i in\n",
    "\n",
    "imageDataset.head()"
   ]
  },
  {
   "cell_type": "markdown",
   "metadata": {},
   "source": [
    "<h3>Split dataset into 80/20</h3>"
   ]
  },
  {
   "cell_type": "code",
   "execution_count": 11,
   "metadata": {
    "scrolled": true
   },
   "outputs": [
    {
     "name": "stdout",
     "output_type": "stream",
     "text": [
      "                                 image    emotion\n",
      "0      facial-expressions_2868588k.jpg      anger\n",
      "1      facial-expressions_2868585k.jpg   surprise\n",
      "2      facial-expressions_2868584k.jpg    disgust\n",
      "3      facial-expressions_2868582k.jpg       fear\n",
      "4               Aaron_Eckhart_0001.jpg    neutral\n",
      "...                                ...        ...\n",
      "13685            SharmilaTagore_80.jpg  HAPPINESS\n",
      "13686            SharmilaTagore_81.jpg  HAPPINESS\n",
      "13687            SharmilaTagore_82.jpg  HAPPINESS\n",
      "13688            SharmilaTagore_83.jpg  HAPPINESS\n",
      "13689             SharmilaTagore_9.jpg  HAPPINESS\n",
      "\n",
      "[13690 rows x 2 columns]\n"
     ]
    }
   ],
   "source": [
    "from sklearn.model_selection import train_test_split\n",
    "\n",
    "# print(imageDataset)\n",
    "dataframe = pd.DataFrame(data=imageDataset)\n",
    "print(dataframe)\n",
    "# X_train, X_test, y_train, y_test = train_test_split(, test_size = 0.20, train_size=0.8)\n"
   ]
  },
  {
   "cell_type": "code",
   "execution_count": null,
   "metadata": {},
   "outputs": [],
   "source": []
  }
 ],
 "metadata": {
  "kernelspec": {
   "display_name": "Python 3 (ipykernel)",
   "language": "python",
   "name": "python3"
  },
  "language_info": {
   "codemirror_mode": {
    "name": "ipython",
    "version": 3
   },
   "file_extension": ".py",
   "mimetype": "text/x-python",
   "name": "python",
   "nbconvert_exporter": "python",
   "pygments_lexer": "ipython3",
   "version": "3.9.7"
  },
  "varInspector": {
   "cols": {
    "lenName": 16,
    "lenType": 16,
    "lenVar": 40
   },
   "kernels_config": {
    "python": {
     "delete_cmd_postfix": "",
     "delete_cmd_prefix": "del ",
     "library": "var_list.py",
     "varRefreshCmd": "print(var_dic_list())"
    },
    "r": {
     "delete_cmd_postfix": ") ",
     "delete_cmd_prefix": "rm(",
     "library": "var_list.r",
     "varRefreshCmd": "cat(var_dic_list()) "
    }
   },
   "types_to_exclude": [
    "module",
    "function",
    "builtin_function_or_method",
    "instance",
    "_Feature"
   ],
   "window_display": false
  }
 },
 "nbformat": 4,
 "nbformat_minor": 2
}
